{
 "cells": [
  {
   "cell_type": "code",
   "execution_count": null,
   "id": "876a9c4b-a5e5-417e-b5ff-40839dcd93ff",
   "metadata": {},
   "outputs": [
    {
     "name": "stdout",
     "output_type": "stream",
     "text": [
      "\n",
      "--- Mood and Genre-Based Movie Recommendation System ---\n",
      "1. Recommend Movies Based on Mood\n",
      "2. Recommend Movies Based on Genre\n",
      "3. Recommend Movies Based on Both Mood and Genre\n",
      "4. Generate Random Movie Recommendations\n",
      "5. Exit\n"
     ]
    },
    {
     "name": "stdin",
     "output_type": "stream",
     "text": [
      "Enter your choice:  1\n",
      "Enter your mood (Happy, Sad, Action, Thriller):  Happy\n"
     ]
    },
    {
     "name": "stdout",
     "output_type": "stream",
     "text": [
      "\n",
      "--- Recommended Movies for mood 'Happy' ---\n",
      "Movie: The Pursuit of Happyness, Genre: Drama\n",
      "Movie: Forrest Gump, Genre: Drama\n",
      "Movie: La La Land, Genre: Musical\n",
      "\n",
      "--- Mood and Genre-Based Movie Recommendation System ---\n",
      "1. Recommend Movies Based on Mood\n",
      "2. Recommend Movies Based on Genre\n",
      "3. Recommend Movies Based on Both Mood and Genre\n",
      "4. Generate Random Movie Recommendations\n",
      "5. Exit\n"
     ]
    },
    {
     "name": "stdin",
     "output_type": "stream",
     "text": [
      "Enter your choice:  4\n"
     ]
    },
    {
     "name": "stdout",
     "output_type": "stream",
     "text": [
      "\n",
      "--- Random Movie Recommendations ---\n",
      "Movie: The Dark Knight, Genre: Action, Mood: Thriller\n",
      "Movie: La La Land, Genre: Musical, Mood: Happy\n",
      "Movie: Movie, Genre: Genre, Mood: Mood\n",
      "Movie: Inception, Genre: Sci-Fi, Mood: Thriller\n",
      "Movie: Spider-Man: No Way Home, Genre: Action, Mood: Action\n",
      "\n",
      "--- Mood and Genre-Based Movie Recommendation System ---\n",
      "1. Recommend Movies Based on Mood\n",
      "2. Recommend Movies Based on Genre\n",
      "3. Recommend Movies Based on Both Mood and Genre\n",
      "4. Generate Random Movie Recommendations\n",
      "5. Exit\n"
     ]
    }
   ],
   "source": [
    "import csv\n",
    "import random\n",
    "\n",
    "# File to store movie data\n",
    "MOVIE_FILE = \"movies.csv\"\n",
    "\n",
    "# Function to load movies from the CSV file\n",
    "def load_movies():\n",
    "    movies = []\n",
    "    try:\n",
    "        with open(MOVIE_FILE, mode='r') as file:\n",
    "            reader = csv.reader(file)\n",
    "            for row in reader:\n",
    "                movies.append(row)\n",
    "    except FileNotFoundError:\n",
    "        print(\"Error: 'movies.csv' file not found. Please ensure the file exists in the same directory.\")\n",
    "    return movies\n",
    "\n",
    "# Function to recommend movies based on mood and/or genre\n",
    "def recommend_movies(mood=None, genre=None):\n",
    "    movies = load_movies()\n",
    "    \n",
    "    # Filter movies based on mood and/or genre\n",
    "    if mood and genre:\n",
    "        recommended_movies = [movie for movie in movies if movie[2].lower() == mood.lower() and movie[1].lower() == genre.lower()]\n",
    "        filter_type = f\"mood '{mood}' and genre '{genre}'\"\n",
    "    elif mood:\n",
    "        recommended_movies = [movie for movie in movies if movie[2].lower() == mood.lower()]\n",
    "        filter_type = f\"mood '{mood}'\"\n",
    "    elif genre:\n",
    "        recommended_movies = [movie for movie in movies if movie[1].lower() == genre.lower()]\n",
    "        filter_type = f\"genre '{genre}'\"\n",
    "    else:\n",
    "        recommended_movies = []\n",
    "        filter_type = \"no filters\"\n",
    "    \n",
    "    if not recommended_movies:\n",
    "        print(f\"No movies found for {filter_type}.\")\n",
    "        return\n",
    "    \n",
    "    print(f\"\\n--- Recommended Movies for {filter_type} ---\")\n",
    "    for movie in recommended_movies:\n",
    "        print(f\"Movie: {movie[0]}, Genre: {movie[1]}\")\n",
    "\n",
    "# Function to generate random movie recommendations\n",
    "def random_recommendation():\n",
    "    movies = load_movies()\n",
    "    if not movies:\n",
    "        print(\"No movies available!\")\n",
    "        return\n",
    "    \n",
    "    random_movies = random.sample(movies, min(5, len(movies)))  # Limit to 5 movies\n",
    "    print(\"\\n--- Random Movie Recommendations ---\")\n",
    "    for movie in random_movies:\n",
    "        print(f\"Movie: {movie[0]}, Genre: {movie[1]}, Mood: {movie[2]}\")\n",
    "\n",
    "# Main Menu\n",
    "def main():\n",
    "    while True:\n",
    "        print(\"\\n--- Mood and Genre-Based Movie Recommendation System ---\")\n",
    "        print(\"1. Recommend Movies Based on Mood\")\n",
    "        print(\"2. Recommend Movies Based on Genre\")\n",
    "        print(\"3. Recommend Movies Based on Both Mood and Genre\")\n",
    "        print(\"4. Generate Random Movie Recommendations\")\n",
    "        print(\"5. Exit\")\n",
    "        \n",
    "        choice = input(\"Enter your choice: \")\n",
    "        \n",
    "        if choice == '1':\n",
    "            mood = input(\"Enter your mood (Happy, Sad, Action, Thriller): \")\n",
    "            recommend_movies(mood=mood)\n",
    "        elif choice == '2':\n",
    "            genre = input(\"Enter the genre (Drama, Action, Sci-Fi, etc.): \")\n",
    "            recommend_movies(genre=genre)\n",
    "        elif choice == '3':\n",
    "            mood = input(\"Enter your mood (Happy, Sad, Action, Thriller): \")\n",
    "            genre = input(\"Enter the genre (Drama, Action, Sci-Fi, etc.): \")\n",
    "            recommend_movies(mood=mood, genre=genre)\n",
    "        elif choice == '4':\n",
    "            random_recommendation()\n",
    "        elif choice == '5':\n",
    "            print(\"Exiting...\")\n",
    "            break\n",
    "        else:\n",
    "            print(\"Invalid choice. Please try again.\")\n",
    "\n",
    "if __name__ == \"__main__\":\n",
    "    main()"
   ]
  },
  {
   "cell_type": "code",
   "execution_count": null,
   "id": "aa912a95-1904-43e2-a321-595dd972ac3e",
   "metadata": {},
   "outputs": [],
   "source": []
  }
 ],
 "metadata": {
  "kernelspec": {
   "display_name": "Python [conda env:base] *",
   "language": "python",
   "name": "conda-base-py"
  },
  "language_info": {
   "codemirror_mode": {
    "name": "ipython",
    "version": 3
   },
   "file_extension": ".py",
   "mimetype": "text/x-python",
   "name": "python",
   "nbconvert_exporter": "python",
   "pygments_lexer": "ipython3",
   "version": "3.12.7"
  }
 },
 "nbformat": 4,
 "nbformat_minor": 5
}
